{
 "cells": [
  {
   "cell_type": "code",
   "execution_count": null,
   "metadata": {},
   "outputs": [],
   "source": [
    "from ultralytics import YOLO\n",
    "import torch\n",
    "\n",
    "print(torch.cuda.get_device_name(0))\n",
    "\n",
    "model = YOLO('yolov8x.pt')\n",
    "\n",
    "results = model.train(\n",
    "   data='objdetect.yaml', \n",
    "   imgsz=1024,\n",
    "   epochs=100, \n",
    "   batch=4,\n",
    "   name='yolov8x-1024-100-4-boggle',\n",
    "   plots=True,\n",
    "   amp=True,\n",
    "   project=\"runs/detect\"\n",
    ")"
   ]
  }
 ],
 "metadata": {
  "kernelspec": {
   "display_name": "pytorch_cuda",
   "language": "python",
   "name": "python3"
  },
  "language_info": {
   "codemirror_mode": {
    "name": "ipython",
    "version": 3
   },
   "file_extension": ".py",
   "mimetype": "text/x-python",
   "name": "python",
   "nbconvert_exporter": "python",
   "pygments_lexer": "ipython3",
   "version": "3.11.9"
  }
 },
 "nbformat": 4,
 "nbformat_minor": 2
}
