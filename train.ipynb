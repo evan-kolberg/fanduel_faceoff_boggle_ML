{
 "cells": [
  {
   "cell_type": "code",
   "execution_count": null,
   "metadata": {},
   "outputs": [],
   "source": [
    "from ultralytics import YOLO\n",
    "import torch\n",
    "\n",
    "print(torch.cuda.get_device_name(0))\n",
    " \n",
    "model = YOLO('yolov8x.pt')\n",
    " \n",
    "results = model.train(\n",
    "   data='info.yaml', \n",
    "   imgsz=1000,\n",
    "   epochs=50, \n",
    "   batch=4,\n",
    "   name='boggle-model-8x',\n",
    "    plots=True,\n",
    " amp=True)"
   ]
  }
 ],
 "metadata": {
  "kernelspec": {
   "display_name": ".venv",
   "language": "python",
   "name": "python3"
  },
  "language_info": {
   "name": "python",
   "version": "3.10.4"
  }
 },
 "nbformat": 4,
 "nbformat_minor": 2
}
